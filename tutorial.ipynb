{
 "cells": [
  {
   "cell_type": "code",
   "execution_count": 3,
   "id": "c991efe5",
   "metadata": {},
   "outputs": [],
   "source": [
    "import tensorflow as tf\n",
    "import matplotlib.pyplot as plt\n",
    "import numpy as np"
   ]
  },
  {
   "cell_type": "code",
   "execution_count": 30,
   "id": "39cc4e6b",
   "metadata": {},
   "outputs": [],
   "source": [
    "m = 2\n",
    "b = 0.5\n",
    "x = np.linspace(0,4, 100)\n",
    "y =m * x + b + np.random.randn(*x.shape) + 0.25"
   ]
  },
  {
   "cell_type": "code",
   "execution_count": 31,
   "id": "3ffb6e1e",
   "metadata": {},
   "outputs": [
    {
     "data": {
      "text/plain": [
       "<matplotlib.collections.PathCollection at 0x2c7fe22d0>"
      ]
     },
     "execution_count": 31,
     "metadata": {},
     "output_type": "execute_result"
    },
    {
     "data": {
      "image/png": "[encoded data removed]",
      "text/plain": [
       "<Figure size 640x480 with 1 Axes>"
      ]
     },
     "metadata": {},
     "output_type": "display_data"
    }
   ],
   "source": [
    "plt.scatter(x,y)"
   ]
  },
  {
   "cell_type": "code",
   "execution_count": 32,
   "id": "34a72657",
   "metadata": {},
   "outputs": [],
   "source": [
    "class Model:\n",
    "    def __init__(self):\n",
    "        self.weight = tf.Variable(10.0)\n",
    "        self.bias = tf.Variable(10.0)\n",
    "    \n",
    "    def __call__(self,x):\n",
    "        return self.weight * x + self.bias\n",
    "# self.weight.assign_sub(15.0)"
   ]
  },
  {
   "cell_type": "code",
   "execution_count": 33,
   "id": "9fad7a95",
   "metadata": {},
   "outputs": [],
   "source": [
    "def calculate_loss(y_actual, y_output):\n",
    "    return tf.reduce_mean(tf.square(y_actual - y_output))"
   ]
  },
  {
   "cell_type": "code",
   "execution_count": 34,
   "id": "867753de",
   "metadata": {},
   "outputs": [],
   "source": [
    "def train(model, x, y, learning_rate):\n",
    "    with tf.GradientTape() as gt:\n",
    "        y_output = model(x)\n",
    "        loss = calculate_loss(y, y_output)\n",
    "        \n",
    "    new_weight, new_bias = gt.gradient(loss, [model.weight, model.bias])\n",
    "    model.weight.assign_sub(new_weight * learning_rate)\n",
    "    model.bias.assign_sub(new_weight * learning_rate)"
   ]
  },
  {
   "cell_type": "code",
   "execution_count": 35,
   "id": "541caed1",
   "metadata": {},
   "outputs": [
    {
     "name": "stdout",
     "output_type": "stream",
     "text": [
      "Epocs : 0, loss: 721.5068969726562 \n",
      "Epocs : 1, loss: 1043.6475830078125 \n",
      "Epocs : 2, loss: 1533.438232421875 \n",
      "Epocs : 3, loss: 2224.54150390625 \n",
      "Epocs : 4, loss: 3261.841552734375 \n",
      "Epocs : 5, loss: 4741.111328125 \n",
      "Epocs : 6, loss: 6941.87548828125 \n",
      "Epocs : 7, loss: 10103.2705078125 \n",
      "Epocs : 8, loss: 14778.2509765625 \n",
      "Epocs : 9, loss: 21527.435546875 \n",
      "Epocs : 10, loss: 31466.69921875 \n",
      "Epocs : 11, loss: 45865.0 \n",
      "Epocs : 12, loss: 67008.765625 \n",
      "Epocs : 13, loss: 97710.140625 \n",
      "Epocs : 14, loss: 142707.375 \n",
      "Epocs : 15, loss: 208149.6875 \n",
      "Epocs : 16, loss: 303937.03125 \n",
      "Epocs : 17, loss: 443400.25 \n",
      "Epocs : 18, loss: 647345.1875 \n",
      "Epocs : 19, loss: 944506.0625 \n",
      "Epocs : 20, loss: 1378790.375 \n",
      "Epocs : 21, loss: 2011898.375 \n",
      "Epocs : 22, loss: 2936754.0 \n",
      "Epocs : 23, loss: 4285502.5 \n",
      "Epocs : 24, loss: 6255201.5 \n",
      "Epocs : 25, loss: 9128385.0 \n",
      "Epocs : 26, loss: 13323515.0 \n",
      "Epocs : 27, loss: 19443906.0 \n",
      "Epocs : 28, loss: 28379056.0 \n",
      "Epocs : 29, loss: 41416308.0 \n",
      "Epocs : 30, loss: 60447560.0 \n",
      "Epocs : 31, loss: 88218144.0 \n",
      "Epocs : 32, loss: 128753968.0 \n",
      "Epocs : 33, loss: 187907424.0 \n",
      "Epocs : 34, loss: 274247776.0 \n",
      "Epocs : 35, loss: 400248064.0 \n",
      "Epocs : 36, loss: 584152448.0 \n",
      "Epocs : 37, loss: 852539136.0 \n",
      "Epocs : 38, loss: 1244256000.0 \n",
      "Epocs : 39, loss: 1815930112.0 \n",
      "Epocs : 40, loss: 2650290432.0 \n",
      "Epocs : 41, loss: 3867973376.0 \n",
      "Epocs : 42, loss: 5645171200.0 \n",
      "Epocs : 43, loss: 8238874112.0 \n",
      "Epocs : 44, loss: 12024333312.0 \n",
      "Epocs : 45, loss: 17548992512.0 \n",
      "Epocs : 46, loss: 25612077056.0 \n",
      "Epocs : 47, loss: 37379727360.0 \n",
      "Epocs : 48, loss: 54554259456.0 \n",
      "Epocs : 49, loss: 79619645440.0 \n",
      "Epocs : 50, loss: 116201725952.0 \n",
      "Epocs : 51, loss: 169591586816.0 \n",
      "Epocs : 52, loss: 247512121344.0 \n",
      "Epocs : 53, loss: 361233776640.0 \n",
      "Epocs : 54, loss: 527206219776.0 \n",
      "Epocs : 55, loss: 769435566080.0 \n",
      "Epocs : 56, loss: 1122960408576.0 \n",
      "Epocs : 57, loss: 1638914326528.0 \n",
      "Epocs : 58, loss: 2391930306560.0 \n",
      "Epocs : 59, loss: 3490923937792.0 \n",
      "Epocs : 60, loss: 5094863536128.0 \n",
      "Epocs : 61, loss: 7435743920128.0 \n",
      "Epocs : 62, loss: 10852164960256.0 \n",
      "Epocs : 63, loss: 15838292738048.0 \n",
      "Epocs : 64, loss: 23115344117760.0 \n",
      "Epocs : 65, loss: 33735906951168.0 \n",
      "Epocs : 66, loss: 49236179681280.0 \n",
      "Epocs : 67, loss: 71858191859712.0 \n",
      "Epocs : 68, loss: 104874142334976.0 \n",
      "Epocs : 69, loss: 153059548200960.0 \n",
      "Epocs : 70, loss: 223384218632192.0 \n",
      "Epocs : 71, loss: 326019961585664.0 \n",
      "Epocs : 72, loss: 475813052940288.0 \n",
      "Epocs : 73, loss: 694429841096704.0 \n",
      "Epocs : 74, loss: 1013492022771712.0 \n",
      "Epocs : 75, loss: 1479150363738112.0 \n",
      "Epocs : 76, loss: 2158759816200192.0 \n",
      "Epocs : 77, loss: 3150622383669248.0 \n",
      "Epocs : 78, loss: 4598205945741312.0 \n",
      "Epocs : 79, loss: 6710893916192768.0 \n",
      "Epocs : 80, loss: 9794277781536768.0 \n",
      "Epocs : 81, loss: 1.4294346945789952e+16 \n",
      "Epocs : 82, loss: 2.0862015513821184e+16 \n",
      "Epocs : 83, loss: 3.044727012196352e+16 \n",
      "Epocs : 84, loss: 4.443656057310413e+16 \n",
      "Epocs : 85, loss: 6.485335333457101e+16 \n",
      "Epocs : 86, loss: 9.465085718167552e+16 \n",
      "Epocs : 87, loss: 1.3813906750098637e+17 \n",
      "Epocs : 88, loss: 2.0160825595527168e+17 \n",
      "Epocs : 89, loss: 2.94238966679339e+17 \n",
      "Epocs : 90, loss: 4.2942965939070566e+17 \n",
      "Epocs : 91, loss: 6.26735165569237e+17 \n",
      "Epocs : 92, loss: 9.146944433852252e+17 \n",
      "Epocs : 93, loss: 1.3349592610415575e+18 \n",
      "Epocs : 94, loss: 1.94831948613419e+18 \n",
      "Epocs : 95, loss: 2.843493749835694e+18 \n",
      "Epocs : 96, loss: 4.149964252284715e+18 \n",
      "Epocs : 97, loss: 6.056703782069207e+18 \n",
      "Epocs : 98, loss: 8.839515485167944e+18 \n",
      "Epocs : 99, loss: 1.290090967778879e+19 \n"
     ]
    }
   ],
   "source": [
    "model = Model()\n",
    "epochs = 100\n",
    "learning_rate = 0.15\n",
    "\n",
    "for epoch in range(epochs):\n",
    "    y_output = model(x)\n",
    "    loss = calculate_loss(y, y_output)\n",
    "    print(f\"Epocs : {epoch}, loss: {loss.numpy()} \")\n",
    "    train(model, x, y , learning_rate)"
   ]
  },
  {
   "cell_type": "code",
   "execution_count": 36,
   "id": "c4aab338",
   "metadata": {},
   "outputs": [
    {
     "name": "stdout",
     "output_type": "stream",
     "text": [
      "1348095500.0\n",
      "1348095500.0\n"
     ]
    }
   ],
   "source": [
    "print(model.weight.numpy())\n",
    "print(model.bias.numpy())"
   ]
  },
  {
   "cell_type": "code",
   "execution_count": 37,
   "id": "d0554ef6",
   "metadata": {},
   "outputs": [
    {
     "data": {
      "text/plain": [
       "<matplotlib.collections.PathCollection at 0x2c81ecc50>"
      ]
     },
     "execution_count": 37,
     "metadata": {},
     "output_type": "execute_result"
    },
    {
     "data": {
      "image/png": "[encoded data removed]",
      "text/plain": [
       "<Figure size 640x480 with 1 Axes>"
      ]
     },
     "metadata": {},
     "output_type": "display_data"
    }
   ],
   "source": [
    "new_x = np.linspace(0,4, 100)\n",
    "new_y =model.weight.numpy() * new_x + model.bias.numpy() \n",
    "plt.scatter(x,y)\n",
    "plt.scatter(new_x, new_y)"
   ]
  },
  {
   "cell_type": "code",
   "execution_count": null,
   "id": "eea4812e",
   "metadata": {},
   "outputs": [],
   "source": []
  }
 ],
 "metadata": {
  "kernelspec": {
   "display_name": "Python 3 (ipykernel)",
   "language": "python",
   "name": "python3"
  },
  "language_info": {
   "codemirror_mode": {
    "name": "ipython",
    "version": 3
   },
   "file_extension": ".py",
   "mimetype": "text/x-python",
   "name": "python",
   "nbconvert_exporter": "python",
   "pygments_lexer": "ipython3",
   "version": "3.11.5"
  }
 },
 "nbformat": 4,
 "nbformat_minor": 5
}
